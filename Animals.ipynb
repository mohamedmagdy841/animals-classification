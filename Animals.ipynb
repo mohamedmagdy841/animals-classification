{
 "cells": [
  {
   "cell_type": "code",
   "execution_count": 1,
   "id": "be393045",
   "metadata": {
    "ExecuteTime": {
     "end_time": "2024-03-10T08:00:26.237990Z",
     "start_time": "2024-03-10T08:00:23.175349Z"
    }
   },
   "outputs": [],
   "source": [
    "import torch\n",
    "from torch import nn\n",
    "\n",
    "import torchvision\n",
    "from torchvision import transforms\n",
    "from torchvision.datasets import ImageFolder\n",
    "from torchvision import io\n",
    "\n",
    "from torch.utils.data import Dataset\n",
    "from torch.utils.data import DataLoader\n",
    "from torch.utils.data import random_split\n",
    "\n",
    "import matplotlib.pyplot as plt\n",
    "import numpy as np\n",
    "import os\n",
    "\n",
    "import warnings\n",
    "warnings.filterwarnings(\"ignore\")"
   ]
  },
  {
   "cell_type": "code",
   "execution_count": 2,
   "id": "3fa669d2",
   "metadata": {
    "ExecuteTime": {
     "end_time": "2024-03-10T08:00:36.241800Z",
     "start_time": "2024-03-10T08:00:36.238380Z"
    }
   },
   "outputs": [
    {
     "name": "stdout",
     "output_type": "stream",
     "text": [
      "2.1.0\n"
     ]
    }
   ],
   "source": [
    "print(torch.__version__)"
   ]
  },
  {
   "cell_type": "code",
   "execution_count": 2,
   "id": "bd95d34d",
   "metadata": {
    "ExecuteTime": {
     "end_time": "2024-01-15T19:42:19.677583Z",
     "start_time": "2024-01-15T19:42:19.658563Z"
    }
   },
   "outputs": [
    {
     "data": {
      "text/plain": [
       "'cuda'"
      ]
     },
     "execution_count": 2,
     "metadata": {},
     "output_type": "execute_result"
    }
   ],
   "source": [
    "device = 'cuda' if torch.cuda.is_available() else 'cpu'\n",
    "device"
   ]
  },
  {
   "cell_type": "code",
   "execution_count": 3,
   "id": "6bab88cb",
   "metadata": {
    "ExecuteTime": {
     "end_time": "2024-01-15T19:42:19.682235Z",
     "start_time": "2024-01-15T19:42:19.678592Z"
    }
   },
   "outputs": [],
   "source": [
    "# Hyperparameters\n",
    "IN_CHANNEL = 3\n",
    "NUM_CLASSES = 5\n",
    "BATCH_SIZE = 32\n",
    "NUM_EPOCHS = 15\n",
    "LEARNING_RATE = 1e-3"
   ]
  },
  {
   "cell_type": "markdown",
   "id": "544104cc",
   "metadata": {},
   "source": [
    "# 1.Dataset"
   ]
  },
  {
   "cell_type": "markdown",
   "id": "80a9caa0",
   "metadata": {},
   "source": [
    " kaggle : https://www.kaggle.com/datasets/antobenedetti/animals"
   ]
  },
  {
   "cell_type": "code",
   "execution_count": 4,
   "id": "47b32910",
   "metadata": {
    "ExecuteTime": {
     "end_time": "2024-01-15T19:42:19.688059Z",
     "start_time": "2024-01-15T19:42:19.684242Z"
    }
   },
   "outputs": [
    {
     "data": {
      "text/plain": [
       "EfficientNet_B1_Weights.IMAGENET1K_V2"
      ]
     },
     "execution_count": 4,
     "metadata": {},
     "output_type": "execute_result"
    }
   ],
   "source": [
    "weights = torchvision.models.EfficientNet_B1_Weights.DEFAULT # .DEFAULT = best available weights from pretraining on ImageNet\n",
    "weights"
   ]
  },
  {
   "cell_type": "code",
   "execution_count": 5,
   "id": "daa95cb7",
   "metadata": {
    "ExecuteTime": {
     "end_time": "2024-01-15T19:42:19.693750Z",
     "start_time": "2024-01-15T19:42:19.689066Z"
    }
   },
   "outputs": [
    {
     "data": {
      "text/plain": [
       "ImageClassification(\n",
       "    crop_size=[240]\n",
       "    resize_size=[255]\n",
       "    mean=[0.485, 0.456, 0.406]\n",
       "    std=[0.229, 0.224, 0.225]\n",
       "    interpolation=InterpolationMode.BILINEAR\n",
       ")"
      ]
     },
     "execution_count": 5,
     "metadata": {},
     "output_type": "execute_result"
    }
   ],
   "source": [
    "auto_transforms = weights.transforms()\n",
    "auto_transforms"
   ]
  },
  {
   "cell_type": "code",
   "execution_count": 6,
   "id": "051ea5c6",
   "metadata": {
    "ExecuteTime": {
     "end_time": "2024-01-15T19:42:19.701152Z",
     "start_time": "2024-01-15T19:42:19.694757Z"
    }
   },
   "outputs": [],
   "source": [
    "train_transform = transforms.Compose([\n",
    "    #transforms.CenterCrop(224),\n",
    "    transforms.Resize((256,256)),\n",
    "    transforms.RandomRotation(degrees=(0, 180)),\n",
    "    #transforms.TrivialAugmentWide(num_magnitude_bins=31),\n",
    "    transforms.RandomHorizontalFlip(p=0.5),\n",
    "    transforms.RandomVerticalFlip(p=0.5),\n",
    "    transforms.ToTensor(),\n",
    "    transforms.Normalize([0.485,0.456,0.406],[0.229,0.224,0.225])    \n",
    "])\n",
    "\n",
    "val_transform = transforms.Compose([\n",
    "    #transforms.CenterCrop(224),\n",
    "    transforms.Resize((256, 256)),\n",
    "    transforms.ToTensor(),\n",
    "    transforms.Normalize([0.485,0.456,0.406],[0.229,0.224,0.225])\n",
    "])"
   ]
  },
  {
   "cell_type": "code",
   "execution_count": 7,
   "id": "3b6fd0a7",
   "metadata": {
    "ExecuteTime": {
     "end_time": "2024-01-15T19:42:19.706664Z",
     "start_time": "2024-01-15T19:42:19.702158Z"
    }
   },
   "outputs": [],
   "source": [
    "class Dataset(Dataset):\n",
    "    def __init__(self,root_dir,transforms = None):\n",
    "        self.data = ImageFolder(root_dir,transform=transforms)\n",
    "        \n",
    "    def __len__(self):\n",
    "        return len(self.data)\n",
    "    \n",
    "    def __getitem__(self,idx):\n",
    "        return self.data[idx]"
   ]
  },
  {
   "cell_type": "code",
   "execution_count": 8,
   "id": "ff207b50",
   "metadata": {
    "ExecuteTime": {
     "end_time": "2024-01-15T19:42:19.777149Z",
     "start_time": "2024-01-15T19:42:19.708194Z"
    }
   },
   "outputs": [],
   "source": [
    "train_path = '../../Kaggle_Dataset/MultiClass_Classification/Animals/train/'\n",
    "val_path = '../../Kaggle_Dataset/MultiClass_Classification/Animals/val/'\n",
    "\n",
    "\n",
    "train_dataset = Dataset(train_path,train_transform)\n",
    "val_dataset = Dataset(val_path,val_transform)"
   ]
  },
  {
   "cell_type": "code",
   "execution_count": 9,
   "id": "1f8a36f2",
   "metadata": {
    "ExecuteTime": {
     "end_time": "2024-01-15T19:42:19.782515Z",
     "start_time": "2024-01-15T19:42:19.778422Z"
    }
   },
   "outputs": [
    {
     "data": {
      "text/plain": [
       "(13474, 1497)"
      ]
     },
     "execution_count": 9,
     "metadata": {},
     "output_type": "execute_result"
    }
   ],
   "source": [
    "len(train_dataset),len(val_dataset)"
   ]
  },
  {
   "cell_type": "code",
   "execution_count": 10,
   "id": "bf8e9b66",
   "metadata": {
    "ExecuteTime": {
     "end_time": "2024-01-15T19:42:19.846837Z",
     "start_time": "2024-01-15T19:42:19.785521Z"
    }
   },
   "outputs": [
    {
     "data": {
      "text/plain": [
       "['cat', 'dog', 'elephant', 'horse', 'lion']"
      ]
     },
     "execution_count": 10,
     "metadata": {},
     "output_type": "execute_result"
    }
   ],
   "source": [
    "class_names = ImageFolder(train_path).classes\n",
    "class_names"
   ]
  },
  {
   "cell_type": "code",
   "execution_count": 11,
   "id": "64dbe421",
   "metadata": {
    "ExecuteTime": {
     "end_time": "2024-01-15T19:42:19.851352Z",
     "start_time": "2024-01-15T19:42:19.848051Z"
    }
   },
   "outputs": [],
   "source": [
    "train_dataloader = DataLoader(train_dataset,batch_size=BATCH_SIZE,shuffle=True)\n",
    "val_dataloader = DataLoader(val_dataset,batch_size=BATCH_SIZE,shuffle=False)"
   ]
  },
  {
   "cell_type": "code",
   "execution_count": 12,
   "id": "fcd44f3f",
   "metadata": {
    "ExecuteTime": {
     "end_time": "2024-01-15T19:42:19.996090Z",
     "start_time": "2024-01-15T19:42:19.852359Z"
    }
   },
   "outputs": [
    {
     "data": {
      "text/plain": [
       "(torch.Size([32, 3, 256, 256]), torch.Size([32]))"
      ]
     },
     "execution_count": 12,
     "metadata": {},
     "output_type": "execute_result"
    }
   ],
   "source": [
    "image , label = next(iter(train_dataloader))\n",
    "image.shape , label.shape"
   ]
  },
  {
   "cell_type": "markdown",
   "id": "f7522e21",
   "metadata": {},
   "source": [
    "# 2.Model"
   ]
  },
  {
   "cell_type": "code",
   "execution_count": 13,
   "id": "3acac882",
   "metadata": {
    "ExecuteTime": {
     "end_time": "2024-01-15T19:42:20.253680Z",
     "start_time": "2024-01-15T19:42:19.997096Z"
    }
   },
   "outputs": [],
   "source": [
    "model = torchvision.models.efficientnet_b1(weights=weights).to(device)"
   ]
  },
  {
   "cell_type": "code",
   "execution_count": 14,
   "id": "844a936c",
   "metadata": {
    "ExecuteTime": {
     "end_time": "2024-01-15T19:42:20.625293Z",
     "start_time": "2024-01-15T19:42:20.254685Z"
    }
   },
   "outputs": [
    {
     "data": {
      "text/plain": [
       "============================================================================================================================================\n",
       "Layer (type (var_name))                                      Input Shape          Output Shape         Param #              Trainable\n",
       "============================================================================================================================================\n",
       "EfficientNet (EfficientNet)                                  [32, 3, 240, 240]    [32, 1000]           --                   True\n",
       "├─Sequential (features)                                      [32, 3, 240, 240]    [32, 1280, 8, 8]     --                   True\n",
       "│    └─Conv2dNormActivation (0)                              [32, 3, 240, 240]    [32, 32, 120, 120]   --                   True\n",
       "│    │    └─Conv2d (0)                                       [32, 3, 240, 240]    [32, 32, 120, 120]   864                  True\n",
       "│    │    └─BatchNorm2d (1)                                  [32, 32, 120, 120]   [32, 32, 120, 120]   64                   True\n",
       "│    │    └─SiLU (2)                                         [32, 32, 120, 120]   [32, 32, 120, 120]   --                   --\n",
       "│    └─Sequential (1)                                        [32, 32, 120, 120]   [32, 16, 120, 120]   --                   True\n",
       "│    │    └─MBConv (0)                                       [32, 32, 120, 120]   [32, 16, 120, 120]   1,448                True\n",
       "│    │    └─MBConv (1)                                       [32, 16, 120, 120]   [32, 16, 120, 120]   612                  True\n",
       "│    └─Sequential (2)                                        [32, 16, 120, 120]   [32, 24, 60, 60]     --                   True\n",
       "│    │    └─MBConv (0)                                       [32, 16, 120, 120]   [32, 24, 60, 60]     6,004                True\n",
       "│    │    └─MBConv (1)                                       [32, 24, 60, 60]     [32, 24, 60, 60]     10,710               True\n",
       "│    │    └─MBConv (2)                                       [32, 24, 60, 60]     [32, 24, 60, 60]     10,710               True\n",
       "│    └─Sequential (3)                                        [32, 24, 60, 60]     [32, 40, 30, 30]     --                   True\n",
       "│    │    └─MBConv (0)                                       [32, 24, 60, 60]     [32, 40, 30, 30]     15,350               True\n",
       "│    │    └─MBConv (1)                                       [32, 40, 30, 30]     [32, 40, 30, 30]     31,290               True\n",
       "│    │    └─MBConv (2)                                       [32, 40, 30, 30]     [32, 40, 30, 30]     31,290               True\n",
       "│    └─Sequential (4)                                        [32, 40, 30, 30]     [32, 80, 15, 15]     --                   True\n",
       "│    │    └─MBConv (0)                                       [32, 40, 30, 30]     [32, 80, 15, 15]     37,130               True\n",
       "│    │    └─MBConv (1)                                       [32, 80, 15, 15]     [32, 80, 15, 15]     102,900              True\n",
       "│    │    └─MBConv (2)                                       [32, 80, 15, 15]     [32, 80, 15, 15]     102,900              True\n",
       "│    │    └─MBConv (3)                                       [32, 80, 15, 15]     [32, 80, 15, 15]     102,900              True\n",
       "│    └─Sequential (5)                                        [32, 80, 15, 15]     [32, 112, 15, 15]    --                   True\n",
       "│    │    └─MBConv (0)                                       [32, 80, 15, 15]     [32, 112, 15, 15]    126,004              True\n",
       "│    │    └─MBConv (1)                                       [32, 112, 15, 15]    [32, 112, 15, 15]    208,572              True\n",
       "│    │    └─MBConv (2)                                       [32, 112, 15, 15]    [32, 112, 15, 15]    208,572              True\n",
       "│    │    └─MBConv (3)                                       [32, 112, 15, 15]    [32, 112, 15, 15]    208,572              True\n",
       "│    └─Sequential (6)                                        [32, 112, 15, 15]    [32, 192, 8, 8]      --                   True\n",
       "│    │    └─MBConv (0)                                       [32, 112, 15, 15]    [32, 192, 8, 8]      262,492              True\n",
       "│    │    └─MBConv (1)                                       [32, 192, 8, 8]      [32, 192, 8, 8]      587,952              True\n",
       "│    │    └─MBConv (2)                                       [32, 192, 8, 8]      [32, 192, 8, 8]      587,952              True\n",
       "│    │    └─MBConv (3)                                       [32, 192, 8, 8]      [32, 192, 8, 8]      587,952              True\n",
       "│    │    └─MBConv (4)                                       [32, 192, 8, 8]      [32, 192, 8, 8]      587,952              True\n",
       "│    └─Sequential (7)                                        [32, 192, 8, 8]      [32, 320, 8, 8]      --                   True\n",
       "│    │    └─MBConv (0)                                       [32, 192, 8, 8]      [32, 320, 8, 8]      717,232              True\n",
       "│    │    └─MBConv (1)                                       [32, 320, 8, 8]      [32, 320, 8, 8]      1,563,600            True\n",
       "│    └─Conv2dNormActivation (8)                              [32, 320, 8, 8]      [32, 1280, 8, 8]     --                   True\n",
       "│    │    └─Conv2d (0)                                       [32, 320, 8, 8]      [32, 1280, 8, 8]     409,600              True\n",
       "│    │    └─BatchNorm2d (1)                                  [32, 1280, 8, 8]     [32, 1280, 8, 8]     2,560                True\n",
       "│    │    └─SiLU (2)                                         [32, 1280, 8, 8]     [32, 1280, 8, 8]     --                   --\n",
       "├─AdaptiveAvgPool2d (avgpool)                                [32, 1280, 8, 8]     [32, 1280, 1, 1]     --                   --\n",
       "├─Sequential (classifier)                                    [32, 1280]           [32, 1000]           --                   True\n",
       "│    └─Dropout (0)                                           [32, 1280]           [32, 1280]           --                   --\n",
       "│    └─Linear (1)                                            [32, 1280]           [32, 1000]           1,281,000            True\n",
       "============================================================================================================================================\n",
       "Total params: 7,794,184\n",
       "Trainable params: 7,794,184\n",
       "Non-trainable params: 0\n",
       "Total mult-adds (Units.GIGABYTES): 21.98\n",
       "============================================================================================================================================\n",
       "Input size (MB): 22.12\n",
       "Forward/backward pass size (MB): 5568.89\n",
       "Params size (MB): 31.18\n",
       "Estimated Total Size (MB): 5622.19\n",
       "============================================================================================================================================"
      ]
     },
     "execution_count": 14,
     "metadata": {},
     "output_type": "execute_result"
    }
   ],
   "source": [
    "from torchinfo import summary\n",
    "summary(model, input_size=[32, 3, 240, 240],\n",
    "        col_names=[\"input_size\", \"output_size\", \"num_params\", \"trainable\"],\n",
    "        col_width=20,\n",
    "        row_settings=[\"var_names\"])\n"
   ]
  },
  {
   "cell_type": "code",
   "execution_count": 15,
   "id": "2e452bf1",
   "metadata": {
    "ExecuteTime": {
     "end_time": "2024-01-15T19:42:20.630940Z",
     "start_time": "2024-01-15T19:42:20.626883Z"
    }
   },
   "outputs": [],
   "source": [
    "for param in model.features.parameters():\n",
    "    param.requires_grad = False"
   ]
  },
  {
   "cell_type": "code",
   "execution_count": 16,
   "id": "44a2c446",
   "metadata": {
    "ExecuteTime": {
     "end_time": "2024-01-15T19:42:20.636148Z",
     "start_time": "2024-01-15T19:42:20.631947Z"
    }
   },
   "outputs": [],
   "source": [
    "model.classifier = torch.nn.Sequential(\n",
    "    torch.nn.Dropout(p=0.2, inplace=True), \n",
    "    torch.nn.Linear(in_features=1280, \n",
    "                    out_features=NUM_CLASSES, # same number of output units as our number of classes\n",
    "                    bias=True)).to(device)"
   ]
  },
  {
   "cell_type": "code",
   "execution_count": 17,
   "id": "600d6f17",
   "metadata": {
    "ExecuteTime": {
     "end_time": "2024-01-15T19:42:20.641347Z",
     "start_time": "2024-01-15T19:42:20.637155Z"
    }
   },
   "outputs": [
    {
     "data": {
      "text/plain": [
       "'\\nmodel.fc = torch.nn.Linear(in_features=512, \\n                    out_features=NUM_CLASSES, # same number of output units as our number of classes\\n                    bias=True).to(device)\\n'"
      ]
     },
     "execution_count": 17,
     "metadata": {},
     "output_type": "execute_result"
    }
   ],
   "source": [
    "'''\n",
    "model.fc = torch.nn.Linear(in_features=512, \n",
    "                    out_features=NUM_CLASSES, # same number of output units as our number of classes\n",
    "                    bias=True).to(device)\n",
    "'''"
   ]
  },
  {
   "cell_type": "code",
   "execution_count": 18,
   "id": "c0cfeef1",
   "metadata": {
    "ExecuteTime": {
     "end_time": "2024-01-15T19:42:20.772493Z",
     "start_time": "2024-01-15T19:42:20.642355Z"
    }
   },
   "outputs": [
    {
     "data": {
      "text/plain": [
       "============================================================================================================================================\n",
       "Layer (type (var_name))                                      Input Shape          Output Shape         Param #              Trainable\n",
       "============================================================================================================================================\n",
       "EfficientNet (EfficientNet)                                  [32, 3, 240, 240]    [32, 5]              --                   Partial\n",
       "├─Sequential (features)                                      [32, 3, 240, 240]    [32, 1280, 8, 8]     --                   False\n",
       "│    └─Conv2dNormActivation (0)                              [32, 3, 240, 240]    [32, 32, 120, 120]   --                   False\n",
       "│    │    └─Conv2d (0)                                       [32, 3, 240, 240]    [32, 32, 120, 120]   (864)                False\n",
       "│    │    └─BatchNorm2d (1)                                  [32, 32, 120, 120]   [32, 32, 120, 120]   (64)                 False\n",
       "│    │    └─SiLU (2)                                         [32, 32, 120, 120]   [32, 32, 120, 120]   --                   --\n",
       "│    └─Sequential (1)                                        [32, 32, 120, 120]   [32, 16, 120, 120]   --                   False\n",
       "│    │    └─MBConv (0)                                       [32, 32, 120, 120]   [32, 16, 120, 120]   (1,448)              False\n",
       "│    │    └─MBConv (1)                                       [32, 16, 120, 120]   [32, 16, 120, 120]   (612)                False\n",
       "│    └─Sequential (2)                                        [32, 16, 120, 120]   [32, 24, 60, 60]     --                   False\n",
       "│    │    └─MBConv (0)                                       [32, 16, 120, 120]   [32, 24, 60, 60]     (6,004)              False\n",
       "│    │    └─MBConv (1)                                       [32, 24, 60, 60]     [32, 24, 60, 60]     (10,710)             False\n",
       "│    │    └─MBConv (2)                                       [32, 24, 60, 60]     [32, 24, 60, 60]     (10,710)             False\n",
       "│    └─Sequential (3)                                        [32, 24, 60, 60]     [32, 40, 30, 30]     --                   False\n",
       "│    │    └─MBConv (0)                                       [32, 24, 60, 60]     [32, 40, 30, 30]     (15,350)             False\n",
       "│    │    └─MBConv (1)                                       [32, 40, 30, 30]     [32, 40, 30, 30]     (31,290)             False\n",
       "│    │    └─MBConv (2)                                       [32, 40, 30, 30]     [32, 40, 30, 30]     (31,290)             False\n",
       "│    └─Sequential (4)                                        [32, 40, 30, 30]     [32, 80, 15, 15]     --                   False\n",
       "│    │    └─MBConv (0)                                       [32, 40, 30, 30]     [32, 80, 15, 15]     (37,130)             False\n",
       "│    │    └─MBConv (1)                                       [32, 80, 15, 15]     [32, 80, 15, 15]     (102,900)            False\n",
       "│    │    └─MBConv (2)                                       [32, 80, 15, 15]     [32, 80, 15, 15]     (102,900)            False\n",
       "│    │    └─MBConv (3)                                       [32, 80, 15, 15]     [32, 80, 15, 15]     (102,900)            False\n",
       "│    └─Sequential (5)                                        [32, 80, 15, 15]     [32, 112, 15, 15]    --                   False\n",
       "│    │    └─MBConv (0)                                       [32, 80, 15, 15]     [32, 112, 15, 15]    (126,004)            False\n",
       "│    │    └─MBConv (1)                                       [32, 112, 15, 15]    [32, 112, 15, 15]    (208,572)            False\n",
       "│    │    └─MBConv (2)                                       [32, 112, 15, 15]    [32, 112, 15, 15]    (208,572)            False\n",
       "│    │    └─MBConv (3)                                       [32, 112, 15, 15]    [32, 112, 15, 15]    (208,572)            False\n",
       "│    └─Sequential (6)                                        [32, 112, 15, 15]    [32, 192, 8, 8]      --                   False\n",
       "│    │    └─MBConv (0)                                       [32, 112, 15, 15]    [32, 192, 8, 8]      (262,492)            False\n",
       "│    │    └─MBConv (1)                                       [32, 192, 8, 8]      [32, 192, 8, 8]      (587,952)            False\n",
       "│    │    └─MBConv (2)                                       [32, 192, 8, 8]      [32, 192, 8, 8]      (587,952)            False\n",
       "│    │    └─MBConv (3)                                       [32, 192, 8, 8]      [32, 192, 8, 8]      (587,952)            False\n",
       "│    │    └─MBConv (4)                                       [32, 192, 8, 8]      [32, 192, 8, 8]      (587,952)            False\n",
       "│    └─Sequential (7)                                        [32, 192, 8, 8]      [32, 320, 8, 8]      --                   False\n",
       "│    │    └─MBConv (0)                                       [32, 192, 8, 8]      [32, 320, 8, 8]      (717,232)            False\n",
       "│    │    └─MBConv (1)                                       [32, 320, 8, 8]      [32, 320, 8, 8]      (1,563,600)          False\n",
       "│    └─Conv2dNormActivation (8)                              [32, 320, 8, 8]      [32, 1280, 8, 8]     --                   False\n",
       "│    │    └─Conv2d (0)                                       [32, 320, 8, 8]      [32, 1280, 8, 8]     (409,600)            False\n",
       "│    │    └─BatchNorm2d (1)                                  [32, 1280, 8, 8]     [32, 1280, 8, 8]     (2,560)              False\n",
       "│    │    └─SiLU (2)                                         [32, 1280, 8, 8]     [32, 1280, 8, 8]     --                   --\n",
       "├─AdaptiveAvgPool2d (avgpool)                                [32, 1280, 8, 8]     [32, 1280, 1, 1]     --                   --\n",
       "├─Sequential (classifier)                                    [32, 1280]           [32, 5]              --                   True\n",
       "│    └─Dropout (0)                                           [32, 1280]           [32, 1280]           --                   --\n",
       "│    └─Linear (1)                                            [32, 1280]           [32, 5]              6,405                True\n",
       "============================================================================================================================================\n",
       "Total params: 6,519,589\n",
       "Trainable params: 6,405\n",
       "Non-trainable params: 6,513,184\n",
       "Total mult-adds (Units.GIGABYTES): 21.94\n",
       "============================================================================================================================================\n",
       "Input size (MB): 22.12\n",
       "Forward/backward pass size (MB): 5568.64\n",
       "Params size (MB): 26.08\n",
       "Estimated Total Size (MB): 5616.84\n",
       "============================================================================================================================================"
      ]
     },
     "execution_count": 18,
     "metadata": {},
     "output_type": "execute_result"
    }
   ],
   "source": [
    "from torchinfo import summary\n",
    "summary(model, input_size=[32, 3, 240, 240],\n",
    "        col_names=[\"input_size\", \"output_size\", \"num_params\", \"trainable\"],\n",
    "        col_width=20,\n",
    "        row_settings=[\"var_names\"])"
   ]
  },
  {
   "cell_type": "markdown",
   "id": "2f8625d7",
   "metadata": {},
   "source": [
    "# 3.Loss & optimizer"
   ]
  },
  {
   "cell_type": "code",
   "execution_count": 19,
   "id": "c509b075",
   "metadata": {
    "ExecuteTime": {
     "end_time": "2024-01-15T19:42:20.778457Z",
     "start_time": "2024-01-15T19:42:20.773499Z"
    }
   },
   "outputs": [],
   "source": [
    "loss_fn = nn.CrossEntropyLoss()\n",
    "optimizer = torch.optim.Adam(model.parameters(),lr=LEARNING_RATE)"
   ]
  },
  {
   "cell_type": "markdown",
   "id": "e957e0f7",
   "metadata": {},
   "source": [
    "# 4.Train & Val"
   ]
  },
  {
   "cell_type": "code",
   "execution_count": 20,
   "id": "723543be",
   "metadata": {
    "ExecuteTime": {
     "end_time": "2024-01-15T19:42:21.727680Z",
     "start_time": "2024-01-15T19:42:20.779463Z"
    }
   },
   "outputs": [],
   "source": [
    "from train_test import train"
   ]
  },
  {
   "cell_type": "code",
   "execution_count": 21,
   "id": "4df51d9b",
   "metadata": {
    "ExecuteTime": {
     "end_time": "2024-01-15T20:11:50.767912Z",
     "start_time": "2024-01-15T19:42:21.728686Z"
    }
   },
   "outputs": [
    {
     "data": {
      "application/vnd.jupyter.widget-view+json": {
       "model_id": "d180d53d3bbc44a79b7bb5244dd5a8e2",
       "version_major": 2,
       "version_minor": 0
      },
      "text/plain": [
       "  0%|          | 0/15 [00:00<?, ?it/s]"
      ]
     },
     "metadata": {},
     "output_type": "display_data"
    },
    {
     "name": "stdout",
     "output_type": "stream",
     "text": [
      "Epoch: 1  | train_loss: 0.6193 | test_loss: 0.2806 | \n",
      "Epoch: 2  | train_loss: 0.3446 | test_loss: 0.2016 | \n",
      "Epoch: 3  | train_loss: 0.2936 | test_loss: 0.1696 | \n",
      "Epoch: 4  | train_loss: 0.2786 | test_loss: 0.1653 | \n",
      "Epoch: 5  | train_loss: 0.2665 | test_loss: 0.1503 | \n",
      "Epoch: 6  | train_loss: 0.2569 | test_loss: 0.1449 | \n",
      "Epoch: 7  | train_loss: 0.2501 | test_loss: 0.1387 | \n",
      "Epoch: 8  | train_loss: 0.2473 | test_loss: 0.1391 | \n",
      "Epoch: 9  | train_loss: 0.2425 | test_loss: 0.1267 | \n",
      "Epoch: 10  | train_loss: 0.2369 | test_loss: 0.1246 | \n",
      "Epoch: 11  | train_loss: 0.2423 | test_loss: 0.1252 | \n",
      "Epoch: 12  | train_loss: 0.2485 | test_loss: 0.1263 | \n",
      "Epoch: 13  | train_loss: 0.2346 | test_loss: 0.1298 | \n",
      "Epoch: 14  | train_loss: 0.2296 | test_loss: 0.1224 | \n",
      "Epoch: 15  | train_loss: 0.2336 | test_loss: 0.1155 | \n"
     ]
    }
   ],
   "source": [
    "model_0_results = train(model=model, \n",
    "                        train_dataloader=train_dataloader,\n",
    "                        test_dataloader=val_dataloader,\n",
    "                        optimizer=optimizer,\n",
    "                        loss_fn=loss_fn, \n",
    "                        epochs=NUM_EPOCHS)"
   ]
  },
  {
   "cell_type": "markdown",
   "id": "7e6a607c",
   "metadata": {},
   "source": [
    "# 5.Plot Loss Curve"
   ]
  },
  {
   "cell_type": "code",
   "execution_count": 22,
   "id": "f5adf0b6",
   "metadata": {
    "ExecuteTime": {
     "end_time": "2024-01-15T20:11:50.964440Z",
     "start_time": "2024-01-15T20:11:50.769428Z"
    },
    "scrolled": true
   },
   "outputs": [
    {
     "data": {
      "image/png": "[encoded data removed]",
      "text/plain": [
       "<Figure size 1500x700 with 1 Axes>"
      ]
     },
     "metadata": {},
     "output_type": "display_data"
    }
   ],
   "source": [
    "from loss_acc_curves import plot_loss_curves\n",
    "plot_loss_curves(model_0_results)"
   ]
  },
  {
   "cell_type": "markdown",
   "id": "aa1af35b",
   "metadata": {},
   "source": [
    "# 6.Saving & Loading"
   ]
  },
  {
   "cell_type": "code",
   "execution_count": 32,
   "id": "c0e458f5",
   "metadata": {
    "ExecuteTime": {
     "end_time": "2024-01-15T20:12:03.353711Z",
     "start_time": "2024-01-15T20:12:03.065334Z"
    }
   },
   "outputs": [
    {
     "name": "stdout",
     "output_type": "stream",
     "text": [
      "Saving model to: models/model_2.pth\n"
     ]
    }
   ],
   "source": [
    "MODEL_PATH = 'models'\n",
    "if not os.path.exists(MODEL_PATH):\n",
    "    os.makedirs(MODEL_PATH)\n",
    "# Create model save path \n",
    "MODEL_NAME = \"model_2.pth\"\n",
    "MODEL_SAVE_PATH = MODEL_PATH + '/' + MODEL_NAME\n",
    "\n",
    "# Save the model state dict \n",
    "print(f\"Saving model to: {MODEL_SAVE_PATH}\")\n",
    "torch.save(obj=model.state_dict(), # only saving the state_dict() only saves the models learned parameters\n",
    "           f=MODEL_SAVE_PATH) "
   ]
  },
  {
   "cell_type": "code",
   "execution_count": 33,
   "id": "12cd68bf",
   "metadata": {
    "ExecuteTime": {
     "end_time": "2024-01-15T20:12:03.577337Z",
     "start_time": "2024-01-15T20:12:03.354720Z"
    }
   },
   "outputs": [
    {
     "data": {
      "text/plain": [
       "<All keys matched successfully>"
      ]
     },
     "execution_count": 33,
     "metadata": {},
     "output_type": "execute_result"
    }
   ],
   "source": [
    "loaded_model = torchvision.models.efficientnet_b1().to(device)\n",
    "\n",
    "loaded_model.classifier = torch.nn.Sequential(\n",
    "    torch.nn.Dropout(p=0.2, inplace=True), \n",
    "    torch.nn.Linear(in_features=1280, \n",
    "                    out_features=NUM_CLASSES, # same number of output units as our number of classes\n",
    "                    bias=True)).to(device)\n",
    "\n",
    "loaded_model.load_state_dict(torch.load('models/model_2.pth'))"
   ]
  },
  {
   "cell_type": "markdown",
   "id": "c8cf97d5",
   "metadata": {},
   "source": [
    "# 7.Evaluate"
   ]
  },
  {
   "cell_type": "code",
   "execution_count": 34,
   "id": "cdf50bf5",
   "metadata": {
    "ExecuteTime": {
     "end_time": "2024-01-15T20:12:03.583593Z",
     "start_time": "2024-01-15T20:12:03.578342Z"
    }
   },
   "outputs": [],
   "source": [
    "def test(model,image_path: str, \n",
    "               transform=None,\n",
    "               device: torch.device = device):\n",
    "    # 1. Load in image and convert the tensor values to float32\n",
    "    target_image = torchvision.io.read_image(str(image_path)).type(torch.float32)\n",
    "    if transform:\n",
    "        target_image = transform(target_image)\n",
    "        \n",
    "    model.to(device)\n",
    "    model.eval()\n",
    "    with torch.inference_mode():\n",
    "        target_image = target_image.unsqueeze(dim=0)\n",
    "        y_logits = model(target_image.to(device))\n",
    "        print(f\"logits : {y_logits.cpu().numpy().squeeze()}\\n\")\n",
    "        target_image_pred_probs = torch.softmax(y_logits,dim=1)\n",
    "        target_image_pred_label = torch.argmax(target_image_pred_probs, dim=1)\n",
    "        \n",
    "    #predictions = torch.FloatTensor(target_image_pred_label)\n",
    "    return target_image_pred_label,target_image_pred_probs"
   ]
  },
  {
   "cell_type": "code",
   "execution_count": 35,
   "id": "a857d5a2",
   "metadata": {
    "ExecuteTime": {
     "end_time": "2024-01-15T20:12:03.590109Z",
     "start_time": "2024-01-15T20:12:03.585601Z"
    }
   },
   "outputs": [],
   "source": [
    "test_transform = transforms.Compose([\n",
    "    transforms.ToPILImage(),\n",
    "    #transforms.CenterCrop(224),\n",
    "    transforms.Resize((256, 256)),\n",
    "    transforms.ToTensor(),\n",
    "    transforms.Normalize([0.485,0.456,0.406],[0.229,0.224,0.225])\n",
    "])"
   ]
  },
  {
   "cell_type": "code",
   "execution_count": 36,
   "id": "81f38686",
   "metadata": {
    "ExecuteTime": {
     "end_time": "2024-01-15T20:12:03.720145Z",
     "start_time": "2024-01-15T20:12:03.591122Z"
    }
   },
   "outputs": [
    {
     "name": "stdout",
     "output_type": "stream",
     "text": [
      "logits : [ 6.9009266 -0.9760988 -1.342401  -2.9951766  1.8081201]\n",
      "\n",
      "actual : 0 | pred : 0 | prob : 0.993\n",
      "\n",
      "logits : [-1.7861862   1.6324575   0.66361696  1.4620156   0.43374574]\n",
      "\n",
      "actual : 1 | pred : 1 | prob : 0.391\n",
      "\n",
      "logits : [-3.473604  -2.8424323  5.3485937 -0.6679668  0.6446758]\n",
      "\n",
      "actual : 2 | pred : 2 | prob : 0.988\n",
      "\n",
      "logits : [-1.5476799  -1.0708216   0.06771226  5.753822   -1.5628331 ]\n",
      "\n",
      "actual : 3 | pred : 3 | prob : 0.994\n",
      "\n",
      "logits : [-0.52600604  0.4996074  -1.0300311  -1.2289157   7.6385055 ]\n",
      "\n",
      "actual : 4 | pred : 4 | prob : 0.999\n",
      "\n",
      "actual : [0, 1, 2, 3, 4]\n",
      "prediction : [0, 1, 2, 3, 4]\n"
     ]
    }
   ],
   "source": [
    "test_path = '../../Kaggle_Dataset/MultiClass_Classification/Animals/inf/'\n",
    "\n",
    "import os\n",
    "from os import listdir\n",
    "y_list = []\n",
    "pred_list = []\n",
    "for images in os.listdir(test_path):\n",
    "    # check if the image ends with jpg\n",
    "    if (images.endswith(\".jpg\")):\n",
    "        image_path = os.path.join(test_path,images)\n",
    "        image_index = class_names.index(images.split('.')[0]) #extract name from .jpg then extract index of class\n",
    "        y_list.append(image_index)\n",
    "        y_pred,y_prob = test(loaded_model,image_path,test_transform,device)\n",
    "        pred_list.append(y_pred.item())\n",
    "        print(f\"actual : {image_index} | pred : {y_pred.max()} | prob : {y_prob.max():.3f}\\n\")\n",
    "print(f\"actual : {y_list}\")\n",
    "print(f\"prediction : {pred_list}\")"
   ]
  },
  {
   "cell_type": "code",
   "execution_count": 37,
   "id": "b7c9d410",
   "metadata": {
    "ExecuteTime": {
     "end_time": "2024-01-15T20:12:03.727841Z",
     "start_time": "2024-01-15T20:12:03.722151Z"
    }
   },
   "outputs": [
    {
     "data": {
      "text/plain": [
       "torch.Size([3, 256, 256])"
      ]
     },
     "execution_count": 37,
     "metadata": {},
     "output_type": "execute_result"
    }
   ],
   "source": [
    "custom_image_path = '../../Kaggle_Dataset/MultiClass_Classification/Animals/inf/cat.jpg'\n",
    "target_image = torchvision.io.read_image(str(custom_image_path)).type(torch.float32)\n",
    "target_image = test_transform(target_image)\n",
    "target_image.shape"
   ]
  },
  {
   "cell_type": "code",
   "execution_count": 38,
   "id": "c37a2aed",
   "metadata": {
    "ExecuteTime": {
     "end_time": "2024-01-15T20:12:03.736366Z",
     "start_time": "2024-01-15T20:12:03.729355Z"
    }
   },
   "outputs": [],
   "source": [
    "def pred_and_plot_image(model: torch.nn.Module, \n",
    "                        image_path: str, \n",
    "                        class_names= None, \n",
    "                        transform=None,\n",
    "                        device: torch.device = device):\n",
    "    \"\"\"Makes a prediction on a target image and plots the image with its prediction.\"\"\"\n",
    "    \n",
    "    # 1. Load in image and convert the tensor values to float32\n",
    "    image = torchvision.io.read_image(str(image_path)).type(torch.float32)\n",
    "    #target_image = io.imread(image_path)\n",
    "    #target_image = cv2.imread(image_path)\n",
    "    #rgb_image = cv2.cvtColor(target_image,cv2.COLOR_BGR2RGB)\n",
    "    #plt.imshow(rgb_image.squeeze())\n",
    "    #target_image = target_image.astype('float32') \n",
    "\n",
    "    # 2. Divide the image pixel values by 255 to get them between [0, 1]\n",
    "    #target_image = image / 255. \n",
    "    \n",
    "    # 3. Transform if necessary\n",
    "    if transform:\n",
    "        target_image = transform(image)\n",
    "    \n",
    "    # 4. Make sure the model is on the target device\n",
    "    model.to(device)\n",
    "    \n",
    "    # 5. Turn on model evaluation mode and inference mode\n",
    "    model.eval()\n",
    "    with torch.inference_mode():\n",
    "        # Add an extra dimension to the image\n",
    "        target_image = target_image.unsqueeze(dim=0)\n",
    "    \n",
    "        # Make a prediction on image with an extra dimension and send it to the target device\n",
    "        target_image_pred = model(target_image.to(device))\n",
    "        \n",
    "    # 6. Convert logits -> prediction probabilities (using torch.sigmoid() for binary-class classification)\n",
    "    target_image_pred_probs = torch.softmax(target_image_pred,dim=1)\n",
    "\n",
    "    # 7. Convert prediction probabilities -> prediction labels\n",
    "    target_image_pred_label = torch.argmax(target_image_pred_probs, dim=1)\n",
    "    \n",
    "    # get key from value\n",
    "    #position = value_list.index(target_image_pred_label)\n",
    "    #print(key_list[position])\n",
    "    \n",
    "    # 8. Plot the image alongside the prediction and prediction probability\n",
    "    plt.imshow((image.squeeze().permute(1, 2, 0)).type(torch.uint8))\n",
    "    #plt.imshow(target_image.squeeze().permute(1, 2, 0)) # make sure it's the right size for matplotlib\n",
    "    if class_names:\n",
    "        title = f\"Pred: {class_names[target_image_pred_label.cpu()]} | Class: {target_image_pred_label.max()} | Prob: {target_image_pred_probs.max().cpu():.3f}\"\n",
    "    else: \n",
    "        title = f\"Pred: {key_list[position]} | Prob: {target_image_pred_probs.max().cpu():.3f}\"\n",
    "    plt.title(title)\n",
    "    plt.axis(False);"
   ]
  },
  {
   "cell_type": "code",
   "execution_count": 39,
   "id": "fa9c30a3",
   "metadata": {
    "ExecuteTime": {
     "end_time": "2024-01-15T20:12:04.017829Z",
     "start_time": "2024-01-15T20:12:03.738373Z"
    }
   },
   "outputs": [
    {
     "data": {
      "image/png": "[encoded data removed]",
      "text/plain": [
       "<Figure size 640x480 with 1 Axes>"
      ]
     },
     "metadata": {},
     "output_type": "display_data"
    }
   ],
   "source": [
    "pred_and_plot_image(model=loaded_model,\n",
    "                    image_path=custom_image_path,\n",
    "                    class_names=class_names,\n",
    "                    transform=test_transform,\n",
    "                    device=device)"
   ]
  },
  {
   "cell_type": "code",
   "execution_count": 40,
   "id": "cbdba6d6",
   "metadata": {
    "ExecuteTime": {
     "end_time": "2024-01-15T20:12:04.375543Z",
     "start_time": "2024-01-15T20:12:04.019462Z"
    }
   },
   "outputs": [
    {
     "data": {
      "text/html": [
       "<div>\n",
       "<style scoped>\n",
       "    .dataframe tbody tr th:only-of-type {\n",
       "        vertical-align: middle;\n",
       "    }\n",
       "\n",
       "    .dataframe tbody tr th {\n",
       "        vertical-align: top;\n",
       "    }\n",
       "\n",
       "    .dataframe thead th {\n",
       "        text-align: right;\n",
       "    }\n",
       "</style>\n",
       "<table border=\"1\" class=\"dataframe\">\n",
       "  <thead>\n",
       "    <tr style=\"text-align: right;\">\n",
       "      <th></th>\n",
       "      <th>precision</th>\n",
       "      <th>recall</th>\n",
       "      <th>f1-score</th>\n",
       "      <th>support</th>\n",
       "    </tr>\n",
       "  </thead>\n",
       "  <tbody>\n",
       "    <tr>\n",
       "      <th>0.0</th>\n",
       "      <td>1.0</td>\n",
       "      <td>1.0</td>\n",
       "      <td>1.0</td>\n",
       "      <td>1.0</td>\n",
       "    </tr>\n",
       "    <tr>\n",
       "      <th>1.0</th>\n",
       "      <td>1.0</td>\n",
       "      <td>1.0</td>\n",
       "      <td>1.0</td>\n",
       "      <td>1.0</td>\n",
       "    </tr>\n",
       "    <tr>\n",
       "      <th>2.0</th>\n",
       "      <td>1.0</td>\n",
       "      <td>1.0</td>\n",
       "      <td>1.0</td>\n",
       "      <td>1.0</td>\n",
       "    </tr>\n",
       "    <tr>\n",
       "      <th>3.0</th>\n",
       "      <td>1.0</td>\n",
       "      <td>1.0</td>\n",
       "      <td>1.0</td>\n",
       "      <td>1.0</td>\n",
       "    </tr>\n",
       "    <tr>\n",
       "      <th>4.0</th>\n",
       "      <td>1.0</td>\n",
       "      <td>1.0</td>\n",
       "      <td>1.0</td>\n",
       "      <td>1.0</td>\n",
       "    </tr>\n",
       "    <tr>\n",
       "      <th>accuracy</th>\n",
       "      <td>1.0</td>\n",
       "      <td>1.0</td>\n",
       "      <td>1.0</td>\n",
       "      <td>1.0</td>\n",
       "    </tr>\n",
       "    <tr>\n",
       "      <th>macro avg</th>\n",
       "      <td>1.0</td>\n",
       "      <td>1.0</td>\n",
       "      <td>1.0</td>\n",
       "      <td>5.0</td>\n",
       "    </tr>\n",
       "    <tr>\n",
       "      <th>weighted avg</th>\n",
       "      <td>1.0</td>\n",
       "      <td>1.0</td>\n",
       "      <td>1.0</td>\n",
       "      <td>5.0</td>\n",
       "    </tr>\n",
       "  </tbody>\n",
       "</table>\n",
       "</div>"
      ],
      "text/plain": [
       "              precision  recall  f1-score  support\n",
       "0.0                 1.0     1.0       1.0      1.0\n",
       "1.0                 1.0     1.0       1.0      1.0\n",
       "2.0                 1.0     1.0       1.0      1.0\n",
       "3.0                 1.0     1.0       1.0      1.0\n",
       "4.0                 1.0     1.0       1.0      1.0\n",
       "accuracy            1.0     1.0       1.0      1.0\n",
       "macro avg           1.0     1.0       1.0      5.0\n",
       "weighted avg        1.0     1.0       1.0      5.0"
      ]
     },
     "metadata": {},
     "output_type": "display_data"
    },
    {
     "data": {
      "image/png": "[encoded data removed]",
      "text/plain": [
       "<Figure size 1500x1500 with 1 Axes>"
      ]
     },
     "metadata": {},
     "output_type": "display_data"
    }
   ],
   "source": [
    "from confusion_matrix import confusionMatrix as cm\n",
    "actual = torch.FloatTensor(y_list)\n",
    "predictions = torch.FloatTensor(pred_list)\n",
    "cm(actual,predictions,class_names,task='multiclass',cmap='Purples')"
   ]
  },
  {
   "cell_type": "code",
   "execution_count": null,
   "id": "88248f6c",
   "metadata": {},
   "outputs": [],
   "source": []
  }
 ],
 "metadata": {
  "kernelspec": {
   "display_name": "Python 3 (ipykernel)",
   "language": "python",
   "name": "python3"
  },
  "language_info": {
   "codemirror_mode": {
    "name": "ipython",
    "version": 3
   },
   "file_extension": ".py",
   "mimetype": "text/x-python",
   "name": "python",
   "nbconvert_exporter": "python",
   "pygments_lexer": "ipython3",
   "version": "3.11.8"
  },
  "varInspector": {
   "cols": {
    "lenName": 16,
    "lenType": 16,
    "lenVar": 40
   },
   "kernels_config": {
    "python": {
     "delete_cmd_postfix": "",
     "delete_cmd_prefix": "del ",
     "library": "var_list.py",
     "varRefreshCmd": "print(var_dic_list())"
    },
    "r": {
     "delete_cmd_postfix": ") ",
     "delete_cmd_prefix": "rm(",
     "library": "var_list.r",
     "varRefreshCmd": "cat(var_dic_list()) "
    }
   },
   "types_to_exclude": [
    "module",
    "function",
    "builtin_function_or_method",
    "instance",
    "_Feature"
   ],
   "window_display": false
  }
 },
 "nbformat": 4,
 "nbformat_minor": 5
}
